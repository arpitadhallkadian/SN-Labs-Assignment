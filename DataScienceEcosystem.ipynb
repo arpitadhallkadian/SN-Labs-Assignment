{
  "metadata": {
    "kernelspec": {
      "name": "python",
      "display_name": "Python (Pyodide)",
      "language": "python"
    },
    "language_info": {
      "codemirror_mode": {
        "name": "python",
        "version": 3
      },
      "file_extension": ".py",
      "mimetype": "text/x-python",
      "name": "python",
      "nbconvert_exporter": "python",
      "pygments_lexer": "ipython3",
      "version": "3.8"
    }
  },
  "nbformat_minor": 4,
  "nbformat": 4,
  "cells": [
    {
      "cell_type": "markdown",
      "source": "<center>\n    <img src=\"https://cf-courses-data.s3.us.cloud-object-storage.appdomain.cloud/IBMDeveloperSkillsNetwork-DS0105EN-SkillsNetwork/labs/Module2/images/SN_web_lightmode.png\" width=\"300\" alt=\"cognitiveclass.ai logo\">\n</center>\n",
      "metadata": {}
    },
    {
      "cell_type": "markdown",
      "source": "#### Add your code below following the instructions given in the course\n",
      "metadata": {}
    },
    {
      "cell_type": "markdown",
      "source": "# Data Science Tools and Ecosystem",
      "metadata": {}
    },
    {
      "cell_type": "markdown",
      "source": "### In this notebook, data science tools and ecosystems are summarised.",
      "metadata": {}
    },
    {
      "cell_type": "markdown",
      "source": "### - Some of the commonly used Data Science languages are:\n1. Python\n2. R\n3. SQL\n4. Julia\n5. JAVA\n6. Scala\n7. C/C++",
      "metadata": {}
    },
    {
      "cell_type": "markdown",
      "source": "### -Some of the commonly used libraries for data science include:\n1. Pandas\n2. Scikit-learn\n3. Matplotlib\n4. Plotly\n5. Pytorch\n6. Numpy",
      "metadata": {}
    },
    {
      "cell_type": "markdown",
      "source": "### -Some commonly used data science tools used as developement environments are:\n| DS Tools |\n|----------|\n| Jupyter|\n| Anaconda|\n| Spyder|\n| Google Colab|",
      "metadata": {}
    },
    {
      "cell_type": "markdown",
      "source": "### -Below are a few examples of evaluating arithmetic expressions in Python.\n1.  3 + 4 = 7\n2.  12 * 12 = 144\n3.  6 + 5(5) = 31",
      "metadata": {}
    },
    {
      "cell_type": "code",
      "source": "#  This a simple arithmetic expression to mutiply then add integers\n(3*4)+5\n",
      "metadata": {
        "trusted": true
      },
      "outputs": [
        {
          "execution_count": 1,
          "output_type": "execute_result",
          "data": {
            "text/plain": "17"
          },
          "metadata": {}
        }
      ],
      "execution_count": 1
    },
    {
      "cell_type": "code",
      "source": "# Convert minutes to hours\nminutes = 200\nh = 60\nhours = minutes/h\nprint(hours)\n# This will convert 200 minutes to hours by diving by 60",
      "metadata": {
        "trusted": true
      },
      "outputs": [
        {
          "name": "stdout",
          "text": "3.3333333333333335\n",
          "output_type": "stream"
        }
      ],
      "execution_count": 2
    },
    {
      "cell_type": "markdown",
      "source": "## **Objectives for this notebook is Tools used for data science, which are as follows:**\n1. Languages used for Data Science\n2. Commonly used DS libraries\n3. DS Developement environment tools used\n4. Successfully creating markdown and code cells\n",
      "metadata": {}
    },
    {
      "cell_type": "markdown",
      "source": "## Author\nArpita Dhall",
      "metadata": {}
    },
    {
      "cell_type": "code",
      "source": "",
      "metadata": {
        "trusted": true
      },
      "outputs": [],
      "execution_count": null
    }
  ]
}